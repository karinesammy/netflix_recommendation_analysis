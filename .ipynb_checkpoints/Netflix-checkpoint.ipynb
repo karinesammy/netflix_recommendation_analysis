{
 "cells": [
  {
   "cell_type": "code",
   "execution_count": 1,
   "id": "ac6ca8ca-caff-4f9b-a8fb-818af16856e6",
   "metadata": {},
   "outputs": [],
   "source": [
    "import pandas as pd\n",
    "import ast\n",
    "import requests\n",
    "import numpy as np"
   ]
  },
  {
   "cell_type": "markdown",
   "id": "e5262d94-ce04-4490-b9c7-44e74cebe3b6",
   "metadata": {},
   "source": [
    "## Merge Two Datasets"
   ]
  },
  {
   "cell_type": "markdown",
   "id": "dcec223b-725b-482b-89cf-84ff5ed7f1d1",
   "metadata": {},
   "source": [
    "This data set was created to list all shows available on Netflix streaming and analyze the data to find interesting facts. It was acquired in July 2022 and contains information available in the United States. However, we still need to verify which shows are Netflix Originals, so the two data sets will be merged."
   ]
  },
  {
   "cell_type": "code",
   "execution_count": 2,
   "id": "5edcb619-470e-4dbe-980c-e1b1c731d306",
   "metadata": {},
   "outputs": [],
   "source": [
    "data = pd.read_csv(\"netlix_catalogue.csv\")"
   ]
  },
  {
   "cell_type": "code",
   "execution_count": 3,
   "id": "f0d0e882-4069-41a8-a20d-c452dedc8fac",
   "metadata": {},
   "outputs": [],
   "source": [
    "df = pd.read_csv(\"titles.csv\")"
   ]
  },
  {
   "cell_type": "code",
   "execution_count": 4,
   "id": "c9023323-dd2b-4c9f-b8fa-46a98afaebf4",
   "metadata": {},
   "outputs": [
    {
     "data": {
      "text/html": [
       "<div>\n",
       "<style scoped>\n",
       "    .dataframe tbody tr th:only-of-type {\n",
       "        vertical-align: middle;\n",
       "    }\n",
       "\n",
       "    .dataframe tbody tr th {\n",
       "        vertical-align: top;\n",
       "    }\n",
       "\n",
       "    .dataframe thead th {\n",
       "        text-align: right;\n",
       "    }\n",
       "</style>\n",
       "<table border=\"1\" class=\"dataframe\">\n",
       "  <thead>\n",
       "    <tr style=\"text-align: right;\">\n",
       "      <th></th>\n",
       "      <th>id</th>\n",
       "      <th>title</th>\n",
       "      <th>type</th>\n",
       "      <th>description</th>\n",
       "      <th>release_year</th>\n",
       "      <th>age_certification</th>\n",
       "      <th>runtime</th>\n",
       "      <th>genres</th>\n",
       "      <th>production_countries</th>\n",
       "      <th>seasons</th>\n",
       "      <th>imdb_id</th>\n",
       "      <th>imdb_score</th>\n",
       "      <th>imdb_votes</th>\n",
       "      <th>tmdb_popularity</th>\n",
       "      <th>tmdb_score</th>\n",
       "      <th>netflix_owned</th>\n",
       "    </tr>\n",
       "  </thead>\n",
       "  <tbody>\n",
       "    <tr>\n",
       "      <th>0</th>\n",
       "      <td>ts300399</td>\n",
       "      <td>Five Came Back: The Reference Films</td>\n",
       "      <td>SHOW</td>\n",
       "      <td>This collection includes 12 World War II-era p...</td>\n",
       "      <td>1945</td>\n",
       "      <td>TV-MA</td>\n",
       "      <td>51</td>\n",
       "      <td>['documentation']</td>\n",
       "      <td>['US']</td>\n",
       "      <td>1.0</td>\n",
       "      <td>NaN</td>\n",
       "      <td>NaN</td>\n",
       "      <td>NaN</td>\n",
       "      <td>0.600</td>\n",
       "      <td>NaN</td>\n",
       "      <td>False</td>\n",
       "    </tr>\n",
       "    <tr>\n",
       "      <th>1</th>\n",
       "      <td>tm84618</td>\n",
       "      <td>Taxi Driver</td>\n",
       "      <td>MOVIE</td>\n",
       "      <td>A mentally unstable Vietnam War veteran works ...</td>\n",
       "      <td>1976</td>\n",
       "      <td>R</td>\n",
       "      <td>114</td>\n",
       "      <td>['drama', 'crime']</td>\n",
       "      <td>['US']</td>\n",
       "      <td>NaN</td>\n",
       "      <td>tt0075314</td>\n",
       "      <td>8.2</td>\n",
       "      <td>808582.0</td>\n",
       "      <td>40.965</td>\n",
       "      <td>8.179</td>\n",
       "      <td>False</td>\n",
       "    </tr>\n",
       "  </tbody>\n",
       "</table>\n",
       "</div>"
      ],
      "text/plain": [
       "         id                                title   type  \\\n",
       "0  ts300399  Five Came Back: The Reference Films   SHOW   \n",
       "1   tm84618                          Taxi Driver  MOVIE   \n",
       "\n",
       "                                         description  release_year  \\\n",
       "0  This collection includes 12 World War II-era p...          1945   \n",
       "1  A mentally unstable Vietnam War veteran works ...          1976   \n",
       "\n",
       "  age_certification  runtime              genres production_countries  \\\n",
       "0             TV-MA       51   ['documentation']               ['US']   \n",
       "1                 R      114  ['drama', 'crime']               ['US']   \n",
       "\n",
       "   seasons    imdb_id  imdb_score  imdb_votes  tmdb_popularity  tmdb_score  \\\n",
       "0      1.0        NaN         NaN         NaN            0.600         NaN   \n",
       "1      NaN  tt0075314         8.2    808582.0           40.965       8.179   \n",
       "\n",
       "   netflix_owned  \n",
       "0          False  \n",
       "1          False  "
      ]
     },
     "execution_count": 4,
     "metadata": {},
     "output_type": "execute_result"
    }
   ],
   "source": [
    "# Create a new boolean column by checking if \"title\" exists in \"Name\"\n",
    "df[\"netflix_owned\"] = df[\"title\"].isin(data[\"Name\"])\n",
    "\n",
    "# Display the updated DataFrame\n",
    "df.head(2)"
   ]
  },
  {
   "cell_type": "code",
   "execution_count": 5,
   "id": "e1dd387a-aa5f-4651-8b5f-caa504d6b5da",
   "metadata": {},
   "outputs": [
    {
     "data": {
      "text/plain": [
       "netflix_owned\n",
       "False    3816\n",
       "True     2034\n",
       "Name: count, dtype: int64"
      ]
     },
     "execution_count": 5,
     "metadata": {},
     "output_type": "execute_result"
    }
   ],
   "source": [
    "# See the amount of movies/tv-shows that are owned(produced) by Netflix\n",
    "df[\"netflix_owned\"].value_counts()"
   ]
  },
  {
   "cell_type": "code",
   "execution_count": 6,
   "id": "0b6d3aac-1b22-43f1-b439-564f9301fbc8",
   "metadata": {},
   "outputs": [],
   "source": [
    "df.to_csv(\"netflix_data.csv\", index=False)"
   ]
  },
  {
   "cell_type": "markdown",
   "id": "3f6afb31-57ab-4039-8c02-c2d49bbfa985",
   "metadata": {},
   "source": [
    "## Data Cleansing"
   ]
  },
  {
   "cell_type": "markdown",
   "id": "22003e0a-4fdf-4ec9-9227-c8b4b4524a12",
   "metadata": {},
   "source": [
    "1. Remove titles with no value in them.  \n",
    "2. Make sure the columns have the correct data types."
   ]
  },
  {
   "cell_type": "code",
   "execution_count": 7,
   "id": "dd06e64f-6dc6-419f-86c4-ce85ac9ff6f8",
   "metadata": {},
   "outputs": [],
   "source": [
    "df = pd.read_csv(\"netflix_data.csv\")\n",
    "country_code = pd.read_csv(\"country_code.csv\")"
   ]
  },
  {
   "cell_type": "code",
   "execution_count": 8,
   "id": "b415f072-52f6-48ab-8a17-8ad7e5a14318",
   "metadata": {},
   "outputs": [
    {
     "name": "stdout",
     "output_type": "stream",
     "text": [
      "<class 'pandas.core.frame.DataFrame'>\n",
      "Index: 5849 entries, 0 to 5849\n",
      "Data columns (total 16 columns):\n",
      " #   Column                Non-Null Count  Dtype  \n",
      "---  ------                --------------  -----  \n",
      " 0   id                    5849 non-null   object \n",
      " 1   title                 5849 non-null   object \n",
      " 2   type                  5849 non-null   object \n",
      " 3   description           5832 non-null   object \n",
      " 4   release_year          5849 non-null   int64  \n",
      " 5   age_certification     3231 non-null   object \n",
      " 6   runtime               5849 non-null   int64  \n",
      " 7   genres                5849 non-null   object \n",
      " 8   production_countries  5849 non-null   object \n",
      " 9   seasons               2106 non-null   float64\n",
      " 10  imdb_id               5446 non-null   object \n",
      " 11  imdb_score            5368 non-null   float64\n",
      " 12  imdb_votes            5352 non-null   float64\n",
      " 13  tmdb_popularity       5759 non-null   float64\n",
      " 14  tmdb_score            5539 non-null   float64\n",
      " 15  netflix_owned         5849 non-null   bool   \n",
      "dtypes: bool(1), float64(5), int64(2), object(8)\n",
      "memory usage: 736.8+ KB\n"
     ]
    }
   ],
   "source": [
    "# Check if there's NULL value in the dataset\n",
    "df.isnull().sum()\n",
    "\n",
    "# Remove the NULL value in column 'title'\n",
    "df = df.dropna(subset=[\"title\"])\n",
    "\n",
    "# Check the data type in columns\n",
    "df.info()"
   ]
  },
  {
   "cell_type": "code",
   "execution_count": 9,
   "id": "487fb3c0-38cd-409c-bff3-57b33028a664",
   "metadata": {},
   "outputs": [],
   "source": [
    "# Capitalize the first letter \n",
    "df[\"type\"] = df[\"type\"].str.title()"
   ]
  },
  {
   "cell_type": "code",
   "execution_count": 10,
   "id": "e565bdb5-e579-4584-8595-e5015a8d3ad7",
   "metadata": {},
   "outputs": [
    {
     "data": {
      "text/html": [
       "<div>\n",
       "<style scoped>\n",
       "    .dataframe tbody tr th:only-of-type {\n",
       "        vertical-align: middle;\n",
       "    }\n",
       "\n",
       "    .dataframe tbody tr th {\n",
       "        vertical-align: top;\n",
       "    }\n",
       "\n",
       "    .dataframe thead th {\n",
       "        text-align: right;\n",
       "    }\n",
       "</style>\n",
       "<table border=\"1\" class=\"dataframe\">\n",
       "  <thead>\n",
       "    <tr style=\"text-align: right;\">\n",
       "      <th></th>\n",
       "      <th>id</th>\n",
       "      <th>title</th>\n",
       "      <th>type</th>\n",
       "      <th>description</th>\n",
       "      <th>release_year</th>\n",
       "      <th>age_certification</th>\n",
       "      <th>runtime</th>\n",
       "      <th>genres</th>\n",
       "      <th>production_countries</th>\n",
       "      <th>seasons</th>\n",
       "      <th>imdb_id</th>\n",
       "      <th>imdb_score</th>\n",
       "      <th>imdb_votes</th>\n",
       "      <th>tmdb_popularity</th>\n",
       "      <th>tmdb_score</th>\n",
       "      <th>netflix_owned</th>\n",
       "      <th>country</th>\n",
       "    </tr>\n",
       "  </thead>\n",
       "  <tbody>\n",
       "    <tr>\n",
       "      <th>0</th>\n",
       "      <td>ts300399</td>\n",
       "      <td>Five Came Back: The Reference Films</td>\n",
       "      <td>Show</td>\n",
       "      <td>This collection includes 12 World War II-era p...</td>\n",
       "      <td>1945</td>\n",
       "      <td>TV-MA</td>\n",
       "      <td>51</td>\n",
       "      <td>['documentation']</td>\n",
       "      <td>[US]</td>\n",
       "      <td>1.0</td>\n",
       "      <td>NaN</td>\n",
       "      <td>NaN</td>\n",
       "      <td>NaN</td>\n",
       "      <td>0.600</td>\n",
       "      <td>NaN</td>\n",
       "      <td>False</td>\n",
       "      <td>[America]</td>\n",
       "    </tr>\n",
       "    <tr>\n",
       "      <th>1</th>\n",
       "      <td>tm84618</td>\n",
       "      <td>Taxi Driver</td>\n",
       "      <td>Movie</td>\n",
       "      <td>A mentally unstable Vietnam War veteran works ...</td>\n",
       "      <td>1976</td>\n",
       "      <td>R</td>\n",
       "      <td>114</td>\n",
       "      <td>['drama', 'crime']</td>\n",
       "      <td>[US]</td>\n",
       "      <td>NaN</td>\n",
       "      <td>tt0075314</td>\n",
       "      <td>8.2</td>\n",
       "      <td>808582.0</td>\n",
       "      <td>40.965</td>\n",
       "      <td>8.179</td>\n",
       "      <td>False</td>\n",
       "      <td>[America]</td>\n",
       "    </tr>\n",
       "    <tr>\n",
       "      <th>2</th>\n",
       "      <td>tm154986</td>\n",
       "      <td>Deliverance</td>\n",
       "      <td>Movie</td>\n",
       "      <td>Intent on seeing the Cahulawassee River before...</td>\n",
       "      <td>1972</td>\n",
       "      <td>R</td>\n",
       "      <td>109</td>\n",
       "      <td>['drama', 'action', 'thriller', 'european']</td>\n",
       "      <td>[US]</td>\n",
       "      <td>NaN</td>\n",
       "      <td>tt0068473</td>\n",
       "      <td>7.7</td>\n",
       "      <td>107673.0</td>\n",
       "      <td>10.010</td>\n",
       "      <td>7.300</td>\n",
       "      <td>False</td>\n",
       "      <td>[America]</td>\n",
       "    </tr>\n",
       "  </tbody>\n",
       "</table>\n",
       "</div>"
      ],
      "text/plain": [
       "         id                                title   type  \\\n",
       "0  ts300399  Five Came Back: The Reference Films   Show   \n",
       "1   tm84618                          Taxi Driver  Movie   \n",
       "2  tm154986                          Deliverance  Movie   \n",
       "\n",
       "                                         description  release_year  \\\n",
       "0  This collection includes 12 World War II-era p...          1945   \n",
       "1  A mentally unstable Vietnam War veteran works ...          1976   \n",
       "2  Intent on seeing the Cahulawassee River before...          1972   \n",
       "\n",
       "  age_certification  runtime                                       genres  \\\n",
       "0             TV-MA       51                            ['documentation']   \n",
       "1                 R      114                           ['drama', 'crime']   \n",
       "2                 R      109  ['drama', 'action', 'thriller', 'european']   \n",
       "\n",
       "  production_countries  seasons    imdb_id  imdb_score  imdb_votes  \\\n",
       "0                 [US]      1.0        NaN         NaN         NaN   \n",
       "1                 [US]      NaN  tt0075314         8.2    808582.0   \n",
       "2                 [US]      NaN  tt0068473         7.7    107673.0   \n",
       "\n",
       "   tmdb_popularity  tmdb_score  netflix_owned    country  \n",
       "0            0.600         NaN          False  [America]  \n",
       "1           40.965       8.179          False  [America]  \n",
       "2           10.010       7.300          False  [America]  "
      ]
     },
     "execution_count": 10,
     "metadata": {},
     "output_type": "execute_result"
    }
   ],
   "source": [
    "# Create a new column to show full country name\n",
    "# Create a dictionary where country code and country name are key and value\n",
    "code_country = dict(zip(country_code[\"Code\"], country_code[\"Country\"]))\n",
    "\n",
    "# Make sure value in \"production_countries\" is a list\n",
    "df['production_countries'] = df['production_countries'].apply(lambda x: ast.literal_eval(x) if isinstance(x, str) else x)\n",
    "\n",
    "# Write a function to convert country code to country name\n",
    "def convert(codes):\n",
    "    result = []\n",
    "    \n",
    "    for i in codes:\n",
    "        result.append(code_country.get(i, i))\n",
    "\n",
    "    return result\n",
    "\n",
    "# Create new column to display country name\n",
    "df[\"country\"] = df[\"production_countries\"].apply(convert)\n",
    "df.head(3)"
   ]
  },
  {
   "cell_type": "markdown",
   "id": "a1ec16d0-100b-49b7-ac1d-5bed9a7c4a58",
   "metadata": {},
   "source": [
    "**Request TMDB API to fetch image of movie poster**"
   ]
  },
  {
   "cell_type": "code",
   "execution_count": null,
   "id": "4aaf635f-70ff-48c6-89af-694c1cc778be",
   "metadata": {},
   "outputs": [],
   "source": [
    "# Assign API key\n",
    "TMDB_API = \"da67f8d56b5921c50d1c55700684de87\"\n",
    "\n",
    "# Define a function to fetch image\n",
    "def get_image(title, year):\n",
    "    url = f\"https://api.themoviedb.org/3/search/movie?api_key={TMDB_API}&query={title}&year={year}\"\n",
    "    response = requests.get(url).json()\n",
    "    if response[\"results\"]:\n",
    "        poster_path = response[\"results\"][0][\"poster_path\"]\n",
    "        return f\"https://image.tmdb.org/t/p/w500{poster_path}\"\n",
    "    else:\n",
    "        return None\n",
    "\n",
    "# Add new column into df dataset\n",
    "df[\"poster_url\"] = df.apply(lambda row: get_image(row[\"title\"], row[\"release_year\"]), axis=1)\n",
    "\n",
    "# Create CSV file\n",
    "df.to_csv(\"netflix_data_cleaned.csv\", index=False)\n"
   ]
  },
  {
   "cell_type": "markdown",
   "id": "0187ca53-3a4c-498e-8a49-1a5a4e7850eb",
   "metadata": {},
   "source": [
    "**Remove invalid poster url**"
   ]
  },
  {
   "cell_type": "code",
   "execution_count": 2,
   "id": "9eaece5a-a64c-4e8e-a208-b8ec51252f9a",
   "metadata": {},
   "outputs": [],
   "source": [
    "df = pd.read_csv('netflix_data_cleaned.csv')"
   ]
  },
  {
   "cell_type": "code",
   "execution_count": 3,
   "id": "858069ad-7865-47e7-bedb-41aa9f412692",
   "metadata": {},
   "outputs": [],
   "source": [
    "# Filter poster_url with invalid link\n",
    "mask = df[\"poster_url\"].str.contains(\"https://image.tmdb.org/t/p/w500None\", na=False)\n",
    "df[mask].head(3)\n",
    "\n",
    "# If the poster_url is invalid, we replace the link with NaN value\n",
    "df.loc[mask, \"poster_url\"] = np.nan\n",
    "\n",
    "# Create CSV file\n",
    "df.to_csv(\"netflix_data_cleaned.csv\", index=False)"
   ]
  },
  {
   "cell_type": "code",
   "execution_count": null,
   "id": "9ebc0041-8ffa-496f-98cf-d4c24a6a949d",
   "metadata": {},
   "outputs": [],
   "source": []
  }
 ],
 "metadata": {
  "kernelspec": {
   "display_name": "Python 3 (ipykernel)",
   "language": "python",
   "name": "python3"
  },
  "language_info": {
   "codemirror_mode": {
    "name": "ipython",
    "version": 3
   },
   "file_extension": ".py",
   "mimetype": "text/x-python",
   "name": "python",
   "nbconvert_exporter": "python",
   "pygments_lexer": "ipython3",
   "version": "3.12.4"
  }
 },
 "nbformat": 4,
 "nbformat_minor": 5
}
